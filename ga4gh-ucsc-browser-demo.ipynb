{
 "cells": [
  {
   "cell_type": "markdown",
   "metadata": {},
   "source": [
    "# ga4gh-ucsc-browser-demo"
   ]
  },
  {
   "cell_type": "markdown",
   "metadata": {},
   "source": [
    "In this demonstration we assume the presence of a local ga4gh server, but not the layout of data in it."
   ]
  },
  {
   "cell_type": "markdown",
   "metadata": {},
   "source": [
    "This is to show how data is made more accessible. First, we'll import the ga4gh client."
   ]
  },
  {
   "cell_type": "code",
   "execution_count": 1,
   "metadata": {
    "collapsed": true
   },
   "outputs": [],
   "source": [
    "import ga4gh.client as Client"
   ]
  },
  {
   "cell_type": "markdown",
   "metadata": {},
   "source": [
    "The client object gives us access to the methods presented by a GA4GH genomics API instance. We need to provide the address of the instance we are going to access."
   ]
  },
  {
   "cell_type": "code",
   "execution_count": 2,
   "metadata": {
    "collapsed": false
   },
   "outputs": [],
   "source": [
    "client = Client.HttpClient(\"http://localhost:8000\")"
   ]
  },
  {
   "cell_type": "markdown",
   "metadata": {},
   "source": [
    "This script doesn't know the layout of the data, so first we discover which datasets are being made available and storing them locally for observation. Client responses can be iterated through in a pythonic way."
   ]
  },
  {
   "cell_type": "code",
   "execution_count": 7,
   "metadata": {
    "collapsed": false
   },
   "outputs": [
    {
     "name": "stdout",
     "output_type": "stream",
     "text": [
      "[id: \"WyJicm93c2VyLWRlbW8iXQ\"\n",
      "name: \"browser-demo\"\n",
      "]\n"
     ]
    }
   ],
   "source": [
    "datasets = list(client.search_datasets())\n",
    "print(datasets)"
   ]
  },
  {
   "cell_type": "markdown",
   "metadata": {},
   "source": [
    "Now that we know the datasets in an instance, we can find all of the underlying data within. Using the identifier for each object we can craft requests to discover the data within it."
   ]
  },
  {
   "cell_type": "code",
   "execution_count": 8,
   "metadata": {
    "collapsed": false
   },
   "outputs": [
    {
     "name": "stdout",
     "output_type": "stream",
     "text": [
      "id: \"WyJicm93c2VyLWRlbW8iXQ\"\n",
      "name: \"browser-demo\"\n",
      "\n"
     ]
    }
   ],
   "source": [
    "for dataset in datasets:\n",
    "    print dataset\n",
    "    for variant_set in client.search_variant_sets(dataset.id):\n",
    "        print variant_set\n",
    "    for read_group_set in client.search_read_group_sets(dataset.id):\n",
    "        print read_group_set\n",
    "    for feature_set in client.search_feature_sets(dataset.id):\n",
    "        print feature_set"
   ]
  },
  {
   "cell_type": "code",
   "execution_count": null,
   "metadata": {
    "collapsed": true
   },
   "outputs": [],
   "source": []
  }
 ],
 "metadata": {
  "kernelspec": {
   "display_name": "Python 2",
   "language": "python",
   "name": "python2"
  },
  "language_info": {
   "codemirror_mode": {
    "name": "ipython",
    "version": 2
   },
   "file_extension": ".py",
   "mimetype": "text/x-python",
   "name": "python",
   "nbconvert_exporter": "python",
   "pygments_lexer": "ipython2",
   "version": "2.7.11"
  }
 },
 "nbformat": 4,
 "nbformat_minor": 0
}
